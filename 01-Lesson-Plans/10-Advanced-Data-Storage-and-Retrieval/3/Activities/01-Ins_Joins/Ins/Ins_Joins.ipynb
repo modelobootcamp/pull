{
 "cells": [
  {
   "cell_type": "markdown",
   "metadata": {},
   "source": [
    "# SQLAlchemy Joins"
   ]
  },
  {
   "cell_type": "markdown",
   "metadata": {},
   "source": [
    "## Setup"
   ]
  },
  {
   "cell_type": "code",
   "execution_count": 34,
   "metadata": {},
   "outputs": [],
   "source": [
    "# Python SQL toolkit and Object Relational Mapper\n",
    "import sqlalchemy\n",
    "from sqlalchemy.ext.automap import automap_base\n",
    "from sqlalchemy.orm import Session\n",
    "from sqlalchemy import create_engine, inspect"
   ]
  },
  {
   "cell_type": "code",
   "execution_count": 35,
   "metadata": {},
   "outputs": [],
   "source": [
    "engine = create_engine(\"sqlite:///../Resources/mammal_masses.sqlite\", echo=False)"
   ]
  },
  {
   "cell_type": "code",
   "execution_count": 36,
   "metadata": {},
   "outputs": [
    {
     "data": {
      "text/plain": [
       "['ea', 'na']"
      ]
     },
     "execution_count": 36,
     "metadata": {},
     "output_type": "execute_result"
    }
   ],
   "source": [
    "# Reflect Database into ORM classes\n",
    "Base = automap_base()\n",
    "Base.prepare(engine, reflect=True)\n",
    "Base.classes.keys()"
   ]
  },
  {
   "cell_type": "code",
   "execution_count": 38,
   "metadata": {},
   "outputs": [],
   "source": [
    "# Map Europe class\n",
    "EA = Base.classes.ea"
   ]
  },
  {
   "cell_type": "code",
   "execution_count": 39,
   "metadata": {},
   "outputs": [],
   "source": [
    "# Map North American class\n",
    "NA = Base.classes.na"
   ]
  },
  {
   "cell_type": "code",
   "execution_count": 40,
   "metadata": {},
   "outputs": [],
   "source": [
    "# create a session\n",
    "session = Session(engine)"
   ]
  },
  {
   "cell_type": "markdown",
   "metadata": {},
   "source": [
    "## Filtering Review"
   ]
  },
  {
   "cell_type": "markdown",
   "metadata": {
    "collapsed": true
   },
   "source": [
    "Filters are the \"WHERE\" clause for your select statement. "
   ]
  },
  {
   "cell_type": "code",
   "execution_count": 41,
   "metadata": {},
   "outputs": [
    {
     "name": "stdout",
     "output_type": "stream",
     "text": [
      "Family: Antilocapridae, Genus: Antilocapra\n"
     ]
    }
   ],
   "source": [
    "# filter North American mammals whose genus is \"Antilocapra\"\n",
    "# query, loop over and print out animals.\n",
    "mammals = session.query(NA).filter(NA.genus == 'Antilocapra').all()\n",
    "for mammal in mammals:\n",
    "    print(\"Family: {0}, Genus: {1}\".format(mammal.family, mammal.genus))"
   ]
  },
  {
   "cell_type": "code",
   "execution_count": 43,
   "metadata": {},
   "outputs": [
    {
     "data": {
      "text/plain": [
       "[(1, 3898, None, 'extant', 'Artiodactyla', 'Antilocapridae', 'Antilocapra', 'americana', 4.66, 46082.9, '60')]"
      ]
     },
     "execution_count": 43,
     "metadata": {},
     "output_type": "execute_result"
    }
   ],
   "source": [
    "mamals = engine.execute(''' select *\n",
    "from na\n",
    "where genus = 'Antilocapra' \n",
    "limit 10\n",
    "''').fetchall()"
   ]
  },
  {
   "cell_type": "markdown",
   "metadata": {},
   "source": [
    "## Joins"
   ]
  },
  {
   "cell_type": "code",
   "execution_count": 44,
   "metadata": {},
   "outputs": [
    {
     "data": {
      "text/plain": [
       "['ea', 'na']"
      ]
     },
     "execution_count": 44,
     "metadata": {},
     "output_type": "execute_result"
    }
   ],
   "source": [
    "inspector = inspect(engine)\n",
    "inspector.get_table_names()"
   ]
  },
  {
   "cell_type": "code",
   "execution_count": 45,
   "metadata": {
    "scrolled": true
   },
   "outputs": [
    {
     "name": "stdout",
     "output_type": "stream",
     "text": [
      "id INTEGER\n",
      "record_id INTEGER\n",
      "continent TEXT\n",
      "status TEXT\n",
      "sporder TEXT\n",
      "family TEXT\n",
      "genus TEXT\n",
      "species TEXT\n",
      "log_mass_g FLOAT\n",
      "comb_mass_g FLOAT\n",
      "reference TEXT\n"
     ]
    }
   ],
   "source": [
    "# Get a list of column names and types\n",
    "columns = inspector.get_columns('ea')\n",
    "for c in columns:\n",
    "    print(c['name'], c[\"type\"])"
   ]
  },
  {
   "cell_type": "code",
   "execution_count": 47,
   "metadata": {
    "scrolled": false
   },
   "outputs": [
    {
     "data": {
      "text/plain": [
       "[('Artiodactyla', 'Artiodactyla'),\n",
       " ('Artiodactyla', 'Carnivora'),\n",
       " ('Artiodactyla', 'Chiroptera'),\n",
       " ('Artiodactyla', 'Didelphimorphia'),\n",
       " ('Artiodactyla', 'Insectivora'),\n",
       " ('Artiodactyla', 'Lagomorpha'),\n",
       " ('Artiodactyla', 'Perissodactyla'),\n",
       " ('Artiodactyla', 'Primates'),\n",
       " ('Artiodactyla', 'Proboscidea'),\n",
       " ('Artiodactyla', 'Rodentia')]"
      ]
     },
     "execution_count": 47,
     "metadata": {},
     "output_type": "execute_result"
    }
   ],
   "source": [
    "session.query(EA.sporder, NA.sporder).distinct().limit(10).all()"
   ]
  },
  {
   "cell_type": "markdown",
   "metadata": {},
   "source": [
    "### Using Filter as Joins"
   ]
  },
  {
   "cell_type": "code",
   "execution_count": 48,
   "metadata": {},
   "outputs": [
    {
     "name": "stdout",
     "output_type": "stream",
     "text": [
      "Artiodactyla , Artiodactyla\n",
      "Artiodactyla , Artiodactyla\n",
      "Artiodactyla , Artiodactyla\n",
      "Artiodactyla , Artiodactyla\n",
      "Artiodactyla , Artiodactyla\n",
      "Artiodactyla , Artiodactyla\n",
      "Artiodactyla , Artiodactyla\n",
      "Artiodactyla , Artiodactyla\n",
      "Artiodactyla , Artiodactyla\n",
      "Artiodactyla , Artiodactyla\n"
     ]
    }
   ],
   "source": [
    "same_sporder = session.query(EA, NA).filter(EA.sporder == NA.sporder).limit(10).all()\n",
    "\n",
    "\n",
    "for record in same_sporder:\n",
    "    (ea, na) = record\n",
    "    print(f\"{ea.sporder} , {na.sporder}\")"
   ]
  },
  {
   "cell_type": "code",
   "execution_count": 50,
   "metadata": {},
   "outputs": [
    {
     "name": "stdout",
     "output_type": "stream",
     "text": [
      "The European animal 'Bovidae Antilope cervicapra'belongs to the same sporder as the North American animal 'Antilocapridae Antilocapra americana'.\n",
      "The European animal 'Bovidae Antilope cervicapra'belongs to the same sporder as the North American animal 'Antilocapridae Capromeryx mexicana'.\n",
      "The European animal 'Bovidae Antilope cervicapra'belongs to the same sporder as the North American animal 'Antilocapridae Capromeryx minor'.\n",
      "The European animal 'Bovidae Antilope cervicapra'belongs to the same sporder as the North American animal 'Antilocapridae Stockoceros conklingi'.\n",
      "The European animal 'Bovidae Antilope cervicapra'belongs to the same sporder as the North American animal 'Antilocapridae Stockoceros onusrosagris'.\n",
      "The European animal 'Bovidae Antilope cervicapra'belongs to the same sporder as the North American animal 'Antilocapridae Tetrameryx shuleri'.\n",
      "The European animal 'Bovidae Antilope cervicapra'belongs to the same sporder as the North American animal 'Bovidae Bison bison'.\n",
      "The European animal 'Bovidae Antilope cervicapra'belongs to the same sporder as the North American animal 'Bovidae Bison latifrons'.\n",
      "The European animal 'Bovidae Antilope cervicapra'belongs to the same sporder as the North American animal 'Bovidae Bison priscus'.\n",
      "The European animal 'Bovidae Antilope cervicapra'belongs to the same sporder as the North American animal 'Bovidae Bootherium bombifrons'.\n"
     ]
    }
   ],
   "source": [
    "# Return all animals from EA and NA belonging to the same sporder.\n",
    "# This JOINs the data in the two tables together into a single dataset (here in the form of a tuple).\n",
    "# Note: We are going to limit the results to 10 for printing\n",
    "sel = [EA.family, EA.genus, EA.species, NA.family, NA.genus, NA.species]\n",
    "same_sporder = session.query(*sel).filter(EA.sporder == NA.sporder).limit(10).all()\n",
    "\n",
    "q = engine.execute('''select ea.family, ea.genus, ea.species, na.family, na.genus, na.species\n",
    "                from ea  \n",
    "                inner join na on na.sporder = ea.sporder\n",
    "                limit 10\n",
    "\n",
    "''')\n",
    "\n",
    "for record in same_sporder:\n",
    "    (ea_fam, ea_gen, ea_spec, na_fam, na_gen, na_spec) = record\n",
    "    print(\n",
    "        f\"The European animal '{ea_fam} {ea_gen} {ea_spec}'\"\n",
    "        f\"belongs to the same sporder as the North American animal '{na_fam} {na_gen} {na_spec}'.\")"
   ]
  },
  {
   "cell_type": "code",
   "execution_count": 56,
   "metadata": {},
   "outputs": [
    {
     "name": "stdout",
     "output_type": "stream",
     "text": [
      "('Bovidae', 'Bubalus', 'mephistopheles', 'Antilocapridae', 'Antilocapra', 'americana')\n",
      "('Bovidae', 'Bubalus', 'mephistopheles', 'Antilocapridae', 'Antilocapra', 'americana')\n",
      "('Bovidae', 'Bubalus', 'mephistopheles', 'Antilocapridae', 'Antilocapra', 'americana')\n",
      "('Bovidae', 'Bubalus', 'mephistopheles', 'Antilocapridae', 'Antilocapra', 'americana')\n",
      "('Bovidae', 'Bubalus', 'mephistopheles', 'Antilocapridae', 'Antilocapra', 'americana')\n",
      "('Bovidae', 'Bubalus', 'mephistopheles', 'Antilocapridae', 'Antilocapra', 'americana')\n",
      "('Bovidae', 'Bubalus', 'mephistopheles', 'Antilocapridae', 'Antilocapra', 'americana')\n",
      "('Bovidae', 'Bubalus', 'mephistopheles', 'Antilocapridae', 'Antilocapra', 'americana')\n",
      "('Bovidae', 'Bubalus', 'mephistopheles', 'Antilocapridae', 'Antilocapra', 'americana')\n",
      "('Bovidae', 'Bubalus', 'mephistopheles', 'Antilocapridae', 'Antilocapra', 'americana')\n"
     ]
    }
   ],
   "source": [
    "for row in q:\n",
    "     (ea_fam, ea_gen, ea_spec, na_fam, na_gen, na_spec) = row\n",
    "    print(record)\n",
    "#     print(\n",
    "#         f\"The European animal '{ea_fam} {ea_gen} {ea_spec}'\"\n",
    "#         f\"belongs to the same sporder as the North American animal '{na_fam} {na_gen} {na_spec}'.\")"
   ]
  },
  {
   "cell_type": "code",
   "execution_count": null,
   "metadata": {},
   "outputs": [],
   "source": []
  }
 ],
 "metadata": {
  "kernelspec": {
   "display_name": "Python 3",
   "language": "python",
   "name": "python3"
  },
  "language_info": {
   "codemirror_mode": {
    "name": "ipython",
    "version": 3
   },
   "file_extension": ".py",
   "mimetype": "text/x-python",
   "name": "python",
   "nbconvert_exporter": "python",
   "pygments_lexer": "ipython3",
   "version": "3.7.1"
  },
  "varInspector": {
   "cols": {
    "lenName": 16,
    "lenType": 16,
    "lenVar": 40
   },
   "kernels_config": {
    "python": {
     "delete_cmd_postfix": "",
     "delete_cmd_prefix": "del ",
     "library": "var_list.py",
     "varRefreshCmd": "print(var_dic_list())"
    },
    "r": {
     "delete_cmd_postfix": ") ",
     "delete_cmd_prefix": "rm(",
     "library": "var_list.r",
     "varRefreshCmd": "cat(var_dic_list()) "
    }
   },
   "types_to_exclude": [
    "module",
    "function",
    "builtin_function_or_method",
    "instance",
    "_Feature"
   ],
   "window_display": false
  }
 },
 "nbformat": 4,
 "nbformat_minor": 2
}
