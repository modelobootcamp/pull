{
 "cells": [
  {
   "cell_type": "markdown",
   "metadata": {},
   "source": [
    "### Instructions\n",
    "\n",
    "* Create a class `Surfer` and initialize it with name, hometown, and rank instance variables.\n",
    "\n",
    "* Create an _instance_ of a surfer. \n",
    "\n",
    "* Then print the name, hometown and rank of your surfer object.\n",
    "\n",
    "### Bonus\n",
    "\n",
    "* Create a while loop that will allow you to continuously create new instances of surfers using input().\n",
    "\n",
    "* Keep the loop going until the user specifies otherwise.\n"
   ]
  },
  {
   "cell_type": "code",
   "execution_count": 6,
   "metadata": {},
   "outputs": [],
   "source": [
    "# Define the Surfer Class\n",
    "class Surfer():\n",
    "    def __init__(self, name, hometown, rank):\n",
    "        self.name = name\n",
    "        self.hometown = hometown\n",
    "        self.rank = rank"
   ]
  },
  {
   "cell_type": "code",
   "execution_count": 7,
   "metadata": {},
   "outputs": [],
   "source": [
    "# Create an instance of the Surfer Class\n",
    "Kelly_Slater = Surfer(name = \"Kelly Slater\", hometown = \"Cocoa Beach\", rank = 'Awesome')"
   ]
  },
  {
   "cell_type": "code",
   "execution_count": 9,
   "metadata": {},
   "outputs": [
    {
     "data": {
      "text/plain": [
       "'Awesome'"
      ]
     },
     "execution_count": 9,
     "metadata": {},
     "output_type": "execute_result"
    }
   ],
   "source": [
    "# Print the object's attributes\n",
    "Kelly_Slater.rank"
   ]
  },
  {
   "cell_type": "code",
   "execution_count": 15,
   "metadata": {},
   "outputs": [
    {
     "name": "stdout",
     "output_type": "stream",
     "text": [
      "what is the surfer's nameTod\n",
      "Tod\n",
      "continue? (y/n)y\n",
      "what is the surfer's nameted\n",
      "ted\n",
      "continue? (y/n)y\n",
      "what is the surfer's namen\n",
      "n\n",
      "continue? (y/n)n\n"
     ]
    }
   ],
   "source": [
    "# ----BONUS----\n",
    "# Variable to keep track of changes to while loop\n",
    "\n",
    "go = True\n",
    "\n",
    "while go == True:\n",
    "    input_name = input(\"what is the surfer's name\")\n",
    "    \n",
    "    some_surfer = Surfer(name = input_name , hometown = \"\", rank =  \"\")\n",
    "    \n",
    "    print(some_surfer.name)\n",
    "    check = input(\"continue? (y/n)\")\n",
    "    \n",
    "    if check == \"y\":\n",
    "        go = True\n",
    "    if check == \"n\":\n",
    "        go = False\n",
    "    "
   ]
  },
  {
   "cell_type": "code",
   "execution_count": null,
   "metadata": {},
   "outputs": [],
   "source": []
  }
 ],
 "metadata": {
  "kernelspec": {
   "display_name": "Python 3",
   "language": "python",
   "name": "python3"
  },
  "language_info": {
   "codemirror_mode": {
    "name": "ipython",
    "version": 3
   },
   "file_extension": ".py",
   "mimetype": "text/x-python",
   "name": "python",
   "nbconvert_exporter": "python",
   "pygments_lexer": "ipython3",
   "version": "3.7.1"
  },
  "varInspector": {
   "cols": {
    "lenName": 16,
    "lenType": 16,
    "lenVar": 40
   },
   "kernels_config": {
    "python": {
     "delete_cmd_postfix": "",
     "delete_cmd_prefix": "del ",
     "library": "var_list.py",
     "varRefreshCmd": "print(var_dic_list())"
    },
    "r": {
     "delete_cmd_postfix": ") ",
     "delete_cmd_prefix": "rm(",
     "library": "var_list.r",
     "varRefreshCmd": "cat(var_dic_list()) "
    }
   },
   "types_to_exclude": [
    "module",
    "function",
    "builtin_function_or_method",
    "instance",
    "_Feature"
   ],
   "window_display": false
  }
 },
 "nbformat": 4,
 "nbformat_minor": 2
}
