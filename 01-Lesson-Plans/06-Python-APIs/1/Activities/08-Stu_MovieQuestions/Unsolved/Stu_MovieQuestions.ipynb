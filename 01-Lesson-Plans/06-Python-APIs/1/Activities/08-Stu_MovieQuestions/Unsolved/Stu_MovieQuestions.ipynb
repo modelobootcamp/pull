{
 "cells": [
  {
   "cell_type": "code",
   "execution_count": 3,
   "metadata": {},
   "outputs": [
    {
     "name": "stdout",
     "output_type": "stream",
     "text": [
      "<Response [200]>\n"
     ]
    }
   ],
   "source": [
    "# Dependencies\n",
    "import requests\n",
    "from  pprint import pprint\n",
    "url = \"http://www.omdbapi.com/?apikey=trilogy&t=\"\n",
    "\n",
    "#http://www.omdbapi.com/?apikey=trilogy&t=Terminator\n",
    "response = requests.get(url + \"Terminator\")\n",
    "print(response)\n",
    "\n",
    "data = response.json()"
   ]
  },
  {
   "cell_type": "code",
   "execution_count": 4,
   "metadata": {},
   "outputs": [
    {
     "data": {
      "text/plain": [
       "{'Title': 'Terminator',\n",
       " 'Year': '1991',\n",
       " 'Rated': 'N/A',\n",
       " 'Released': 'N/A',\n",
       " 'Runtime': '39 min',\n",
       " 'Genre': 'Short, Action, Sci-Fi',\n",
       " 'Director': 'Ben Hernandez',\n",
       " 'Writer': 'James Cameron (characters), James Cameron (concept), Ben Hernandez (screenplay)',\n",
       " 'Actors': 'Loris Basso, James Callahan, Debbie Medows, Michelle Kovach',\n",
       " 'Plot': 'A cyborg comes from the future, to kill a girl named Sarah Lee.',\n",
       " 'Language': 'English',\n",
       " 'Country': 'USA',\n",
       " 'Awards': 'N/A',\n",
       " 'Poster': 'N/A',\n",
       " 'Ratings': [{'Source': 'Internet Movie Database', 'Value': '6.4/10'}],\n",
       " 'Metascore': 'N/A',\n",
       " 'imdbRating': '6.4',\n",
       " 'imdbVotes': '22',\n",
       " 'imdbID': 'tt5817168',\n",
       " 'Type': 'movie',\n",
       " 'DVD': 'N/A',\n",
       " 'BoxOffice': 'N/A',\n",
       " 'Production': 'N/A',\n",
       " 'Website': 'N/A',\n",
       " 'Response': 'True'}"
      ]
     },
     "execution_count": 4,
     "metadata": {},
     "output_type": "execute_result"
    }
   ],
   "source": [
    "data"
   ]
  },
  {
   "cell_type": "code",
   "execution_count": 5,
   "metadata": {},
   "outputs": [
    {
     "name": "stdout",
     "output_type": "stream",
     "text": [
      "<Response [200]>\n"
     ]
    },
    {
     "data": {
      "text/plain": [
       "'James Cameron'"
      ]
     },
     "execution_count": 5,
     "metadata": {},
     "output_type": "execute_result"
    }
   ],
   "source": [
    "# Who was the director of the movie Aliens?\n",
    "\n",
    "response = requests.get(url + \"Aliens\")\n",
    "print(response)\n",
    "\n",
    "data = response.json()\n",
    "data['Director']\n",
    "\n",
    "\n",
    "\n",
    "# from urllib.parse import quote\n",
    "# quote(\"Univesity of California\")\n",
    "\n",
    "# quote(\"I go to: Stanford University, California!\")\n",
    "# #'I%20go%20to%3A%20Stanford%20University%2C%20California%21'"
   ]
  },
  {
   "cell_type": "code",
   "execution_count": 6,
   "metadata": {
    "scrolled": true
   },
   "outputs": [
    {
     "name": "stdout",
     "output_type": "stream",
     "text": [
      "<Response [200]>\n"
     ]
    },
    {
     "data": {
      "text/plain": [
       "'R'"
      ]
     },
     "execution_count": 6,
     "metadata": {},
     "output_type": "execute_result"
    }
   ],
   "source": [
    "# What was the movie Gladiator rated?\n",
    "response = requests.get(url + \"Gladiator\")\n",
    "print(response)\n",
    "\n",
    "data = response.json()\n",
    "data['Rated']\n",
    "\n"
   ]
  },
  {
   "cell_type": "code",
   "execution_count": 7,
   "metadata": {},
   "outputs": [
    {
     "name": "stdout",
     "output_type": "stream",
     "text": [
      "<Response [200]>\n"
     ]
    },
    {
     "data": {
      "text/plain": [
       "'2004'"
      ]
     },
     "execution_count": 7,
     "metadata": {},
     "output_type": "execute_result"
    }
   ],
   "source": [
    "# What year was 50 First Dates released?\n",
    "\n",
    "response = requests.get(url + \"50 First Dates \")\n",
    "print(response)\n",
    "\n",
    "data = response.json()\n",
    "data['Year']\n",
    "\n"
   ]
  },
  {
   "cell_type": "code",
   "execution_count": 8,
   "metadata": {
    "scrolled": true
   },
   "outputs": [
    {
     "name": "stdout",
     "output_type": "stream",
     "text": [
      "<Response [200]>\n"
     ]
    },
    {
     "data": {
      "text/plain": [
       "'Jared Bush (screenplay by), Ron Clements (story by), John Musker (story by), Chris Williams (story by), Don Hall (story by), Pamela Ribon (story by), Aaron Kandell (story by), Jordan Kandell (story by)'"
      ]
     },
     "execution_count": 8,
     "metadata": {},
     "output_type": "execute_result"
    }
   ],
   "source": [
    "# Who wrote Moana?\n",
    "response = requests.get(url + \"Moana\")\n",
    "print(response)\n",
    "\n",
    "data = response.json()\n",
    "data['Writer']\n"
   ]
  },
  {
   "cell_type": "code",
   "execution_count": 10,
   "metadata": {
    "scrolled": true
   },
   "outputs": [
    {
     "name": "stdout",
     "output_type": "stream",
     "text": [
      "<Response [200]>\n"
     ]
    },
    {
     "data": {
      "text/plain": [
       "\"In a city of humanoid animals, a hustling theater impresario's attempt to save his theater with a singing competition becomes grander than he anticipates even as its finalists' find that their lives will never be the same.\""
      ]
     },
     "execution_count": 10,
     "metadata": {},
     "output_type": "execute_result"
    }
   ],
   "source": [
    "# What was the plot of the movie Sing?\n",
    "response = requests.get(url + \"Sing\")\n",
    "print(response)\n",
    "\n",
    "data = response.json()\n",
    "data['Plot']\n"
   ]
  },
  {
   "cell_type": "code",
   "execution_count": null,
   "metadata": {},
   "outputs": [],
   "source": []
  }
 ],
 "metadata": {
  "kernelspec": {
   "display_name": "Python 3",
   "language": "python",
   "name": "python3"
  },
  "language_info": {
   "codemirror_mode": {
    "name": "ipython",
    "version": 3
   },
   "file_extension": ".py",
   "mimetype": "text/x-python",
   "name": "python",
   "nbconvert_exporter": "python",
   "pygments_lexer": "ipython3",
   "version": "3.7.1"
  },
  "varInspector": {
   "cols": {
    "lenName": 16,
    "lenType": 16,
    "lenVar": 40
   },
   "kernels_config": {
    "python": {
     "delete_cmd_postfix": "",
     "delete_cmd_prefix": "del ",
     "library": "var_list.py",
     "varRefreshCmd": "print(var_dic_list())"
    },
    "r": {
     "delete_cmd_postfix": ") ",
     "delete_cmd_prefix": "rm(",
     "library": "var_list.r",
     "varRefreshCmd": "cat(var_dic_list()) "
    }
   },
   "types_to_exclude": [
    "module",
    "function",
    "builtin_function_or_method",
    "instance",
    "_Feature"
   ],
   "window_display": false
  }
 },
 "nbformat": 4,
 "nbformat_minor": 2
}
