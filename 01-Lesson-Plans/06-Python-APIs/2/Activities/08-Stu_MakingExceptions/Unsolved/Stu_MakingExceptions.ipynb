{
 "cells": [
  {
   "cell_type": "code",
   "execution_count": 4,
   "metadata": {},
   "outputs": [
    {
     "name": "stdout",
     "output_type": "stream",
     "text": [
      "there was a ZeroDivisionError\n",
      "no more errors\n"
     ]
    }
   ],
   "source": [
    "# Your assignment is to get the last line to print without changing any\n",
    "# of the code below. Instead, wrap each line that throws an error in a\n",
    "# try/except block.\n",
    "\n",
    "\n",
    "try:\n",
    "    \n",
    "    print(\"Infinity looks like + \" + str(10 / 0) + \".\")\n",
    "\n",
    "\n",
    "except KeyError:\n",
    "    print(\"this is a KeyError\")\n",
    "\n",
    "except ZeroDivisionError:\n",
    "    print(\"there was a ZeroDivisionError\")\n",
    "    \n",
    "print(\"no more errors\")    \n",
    "    "
   ]
  },
  {
   "cell_type": "code",
   "execution_count": 10,
   "metadata": {},
   "outputs": [
    {
     "name": "stdout",
     "output_type": "stream",
     "text": [
      "this is a NameError\n"
     ]
    }
   ],
   "source": [
    "try:\n",
    "    print(\"I think her name was + \" + name + \"?\")\n",
    "  \n",
    "except NameError:\n",
    "    print(\"this is a NameError\")\n",
    "  "
   ]
  },
  {
   "cell_type": "code",
   "execution_count": 11,
   "metadata": {},
   "outputs": [
    {
     "name": "stdout",
     "output_type": "stream",
     "text": [
      "this is a value error\n"
     ]
    }
   ],
   "source": [
    "try:\n",
    "    print(\"Your name is a nonsense number. Look: \" + int(\"Gabriel\"))\n",
    "\n",
    "except( ) :\n",
    "    print(\"this is a value error\")\n",
    "    \n",
    "    "
   ]
  },
  {
   "cell_type": "code",
   "execution_count": 8,
   "metadata": {},
   "outputs": [
    {
     "name": "stdout",
     "output_type": "stream",
     "text": [
      "You made it through the gauntlet--the message survived!\n"
     ]
    }
   ],
   "source": [
    "print(\"You made it through the gauntlet--the message survived!\")\n",
    "    "
   ]
  },
  {
   "cell_type": "code",
   "execution_count": null,
   "metadata": {},
   "outputs": [],
   "source": []
  }
 ],
 "metadata": {
  "kernelspec": {
   "display_name": "Python 3",
   "language": "python",
   "name": "python3"
  },
  "language_info": {
   "codemirror_mode": {
    "name": "ipython",
    "version": 3
   },
   "file_extension": ".py",
   "mimetype": "text/x-python",
   "name": "python",
   "nbconvert_exporter": "python",
   "pygments_lexer": "ipython3",
   "version": "3.7.1"
  }
 },
 "nbformat": 4,
 "nbformat_minor": 2
}
