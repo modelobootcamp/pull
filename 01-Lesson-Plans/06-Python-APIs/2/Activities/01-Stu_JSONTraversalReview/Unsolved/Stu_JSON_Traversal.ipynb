{
 "cells": [
  {
   "cell_type": "markdown",
   "metadata": {},
   "source": [
    "# JSON Traversal Review\n",
    "\n",
    "This activity is an opportunity to practice loading and parsing JSON in Python.\n",
    "\n",
    "## Instructions\n",
    "\n",
    "* Load the provided JSON\n",
    "\n",
    "* Retrieve the video's title\n",
    "\n",
    "* Retrieve the video's rating\n",
    "\n",
    "* Retrieve the link to the video's thumbnail\n",
    "\n",
    "* Retrieve the number of views this video has\n"
   ]
  },
  {
   "cell_type": "code",
   "execution_count": 2,
   "metadata": {},
   "outputs": [],
   "source": [
    "# Dependencies\n",
    "import json, os\n",
    "\n",
    "# Load JSON\n",
    "filepath = os.path.join(\"..\", \"Resources\", \"youtube_response.json\")\n",
    "with open(filepath) as jsonfile:\n",
    "    json_data = json.load(jsonfile)"
   ]
  },
  {
   "cell_type": "code",
   "execution_count": null,
   "metadata": {},
   "outputs": [],
   "source": []
  }
 ],
 "metadata": {
  "kernelspec": {
   "display_name": "Python 3",
   "language": "python",
   "name": "python3"
  },
  "language_info": {
   "codemirror_mode": {
    "name": "ipython",
    "version": 3
   },
   "file_extension": ".py",
   "mimetype": "text/x-python",
   "name": "python",
   "nbconvert_exporter": "python",
   "pygments_lexer": "ipython3",
   "version": "3.7.1"
  }
 },
 "nbformat": 4,
 "nbformat_minor": 2
}
