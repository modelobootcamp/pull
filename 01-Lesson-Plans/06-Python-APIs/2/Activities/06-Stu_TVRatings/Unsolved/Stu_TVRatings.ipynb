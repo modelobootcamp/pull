{
 "cells": [
  {
   "cell_type": "markdown",
   "metadata": {},
   "source": [
    "### TV Ratings\n",
    "\n",
    "Create an application that:\n",
    "* reads in a list of TV shows\n",
    "* makes multiple requests from an API to retrieve rating information\n",
    "* creates a Pandas DataFrame\n",
    "* visually displays the data.\n",
    "\n",
    "## Instructions:\n",
    "\n",
    "* You may use the list of TV shows provided in the starter file or create your own.\n",
    "\n",
    "* Request information on each TV show from the [TVmaze API's Show Search endpoint](https://www.tvmaze.com/api#show-search)\n",
    "* Store the name and rating information into lists.\n",
    "\n",
    "* Store this data in a dictionary and use it to create a Pandas DataFrame.\n",
    "\n",
    "* Use matplotlib to create a bar chart comparing the ratings of each show.\n"
   ]
  },
  {
   "cell_type": "code",
   "execution_count": 1,
   "metadata": {},
   "outputs": [],
   "source": [
    "# Dependencies\n",
    "import requests\n",
    "import json\n",
    "import pandas as pd\n",
    "import numpy as np\n",
    "import matplotlib.pyplot as plt"
   ]
  },
  {
   "cell_type": "code",
   "execution_count": 20,
   "metadata": {},
   "outputs": [],
   "source": [
    "#list of tv show titles to query\n",
    "tv_shows = [\"Altered Carbon\", \"Grey's Anatomy\", \"This is Us\", \"The Flash\", \"Vikings\", \"Shameless\", \"Arrow\", \"Peaky Blinders\", \"Dirk Gently\"]\n",
    "\n",
    "base_url = 'http://api.tvmaze.com/search/shows?q='\n",
    "# make iterative requests to TVmaze search endpoint\n",
    "\n",
    "\n",
    "titles = []\n",
    "ratings = []\n",
    "\n",
    "\n",
    "for show in tv_shows:\n",
    "    query_url = base_url + show\n",
    "    r = requests.get(query_url)\n",
    "    #print(r.status_code)\n",
    "    r_json = r.json()\n",
    "    \n",
    "    titles.append(r_json[0]['show']['name'])\n",
    "    ratings.append( r_json[0]['show']['rating'] ['average'] )\n",
    "#     print(query_url)\n"
   ]
  },
  {
   "cell_type": "code",
   "execution_count": 23,
   "metadata": {},
   "outputs": [
    {
     "data": {
      "text/plain": [
       "[8.1, 8.4, 8.2, 8, 8.8, 8.7, 7.5, 9, 7.2]"
      ]
     },
     "execution_count": 23,
     "metadata": {},
     "output_type": "execute_result"
    }
   ],
   "source": [
    "ratings\n",
    "\n"
   ]
  },
  {
   "cell_type": "code",
   "execution_count": 24,
   "metadata": {},
   "outputs": [
    {
     "data": {
      "text/plain": [
       "['Altered Carbon',\n",
       " \"Grey's Anatomy\",\n",
       " 'This Is Us',\n",
       " 'The Flash',\n",
       " 'Vikings',\n",
       " 'Shameless',\n",
       " 'Arrow',\n",
       " 'Peaky Blinders',\n",
       " 'Dirk Gently']"
      ]
     },
     "execution_count": 24,
     "metadata": {},
     "output_type": "execute_result"
    }
   ],
   "source": [
    "titles"
   ]
  },
  {
   "cell_type": "code",
   "execution_count": 31,
   "metadata": {},
   "outputs": [],
   "source": [
    "df = pd.DataFrame({\n",
    "    \"title\": titles,\n",
    "    \"rating\":ratings\n",
    "    \n",
    "})\n",
    "df = df.set_index('title')"
   ]
  },
  {
   "cell_type": "code",
   "execution_count": 35,
   "metadata": {},
   "outputs": [
    {
     "data": {
      "text/plain": [
       "<matplotlib.axes._subplots.AxesSubplot at 0x118a1c748>"
      ]
     },
     "execution_count": 35,
     "metadata": {},
     "output_type": "execute_result"
    },
    {
     "data": {
      "image/png": "[encoded data removed]",
      "text/plain": [
       "<Figure size 432x288 with 1 Axes>"
      ]
     },
     "metadata": {
      "needs_background": "light"
     },
     "output_type": "display_data"
    }
   ],
   "source": [
    "# use matplotlib to create a bar chart from the dataframe\n",
    "\n",
    "df.plot(kind = 'bar', rot = 45)\n"
   ]
  },
  {
   "cell_type": "code",
   "execution_count": null,
   "metadata": {},
   "outputs": [],
   "source": []
  }
 ],
 "metadata": {
  "kernelspec": {
   "display_name": "Python 3",
   "language": "python",
   "name": "python3"
  },
  "language_info": {
   "codemirror_mode": {
    "name": "ipython",
    "version": 3
   },
   "file_extension": ".py",
   "mimetype": "text/x-python",
   "name": "python",
   "nbconvert_exporter": "python",
   "pygments_lexer": "ipython3",
   "version": "3.7.1"
  }
 },
 "nbformat": 4,
 "nbformat_minor": 2
}
