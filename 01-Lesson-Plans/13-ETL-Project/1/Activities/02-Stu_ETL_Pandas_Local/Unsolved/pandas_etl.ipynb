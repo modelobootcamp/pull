{
 "cells": [
  {
   "cell_type": "markdown",
   "metadata": {},
   "source": [
    "## Local Data ETL\n",
    "\n",
    "### Instructions\n",
    "\n",
    "* Create a `customer_db` database in MySQL Workbench then create the following two tables within:\n",
    "\n",
    "  * A `premise` table that contains the columns `id`, `premise_name` and `county_id`.\n",
    "\n",
    "  * A `county` table that contains the columns `id`, `county_name`, `license_count` and `county_id`.\n",
    "\n",
    "  * Be sure to assign a primary key, as Pandas will not be able to do so.\n",
    "\n",
    "* In Jupyter Notebook perform all ETL.\n",
    "\n",
    "* **Extraction**\n",
    "\n",
    "  * Put each CSV into a pandas DataFrame.\n",
    "\n",
    "* **Transform**\n",
    "\n",
    "  * Copy only the columns needed into a new DataFrame.\n",
    "\n",
    "  * Rename columns to fit the tables created in the database.\n",
    "\n",
    "  * Handle any duplicates. **HINT:** some locations have the same name but each license number is unique.\n",
    "\n",
    "  * Set index to the previously created primary key.\n",
    "\n",
    "* **Load**\n",
    "\n",
    "  * Create a connection to database.\n",
    "\n",
    "  * Check for a successful connection to the database and confirm that the tables have been created.\n",
    "\n",
    "  * Append DataFrames to tables. Be sure to use the index set earlier.\n",
    "\n",
    "* Confirm successful **Load** by querying database.\n",
    "\n",
    "* Join the two tables and select the `id` and `premise_name` from the `premise` table and `county_name` from the `county` table.\n"
   ]
  },
  {
   "cell_type": "code",
   "execution_count": 1,
   "metadata": {},
   "outputs": [],
   "source": [
    "import pandas as pd\n",
    "from sqlalchemy import create_engine"
   ]
  },
  {
   "cell_type": "markdown",
   "metadata": {},
   "source": [
    "### Extract CSVs into DataFrames"
   ]
  },
  {
   "cell_type": "code",
   "execution_count": 2,
   "metadata": {},
   "outputs": [],
   "source": [
    "premise_file = \"../Resources/LicensePremise.csv\"\n"
   ]
  },
  {
   "cell_type": "code",
   "execution_count": 3,
   "metadata": {},
   "outputs": [],
   "source": [
    "county_file = \"../Resources/CountyLicenseCount.csv\"\n"
   ]
  },
  {
   "cell_type": "markdown",
   "metadata": {},
   "source": [
    "### Transform premise DataFrame"
   ]
  },
  {
   "cell_type": "code",
   "execution_count": null,
   "metadata": {},
   "outputs": [],
   "source": []
  },
  {
   "cell_type": "markdown",
   "metadata": {},
   "source": [
    "### Transform county DataFrame"
   ]
  },
  {
   "cell_type": "code",
   "execution_count": null,
   "metadata": {},
   "outputs": [],
   "source": []
  },
  {
   "cell_type": "markdown",
   "metadata": {},
   "source": [
    "### Create database connection"
   ]
  },
  {
   "cell_type": "code",
   "execution_count": null,
   "metadata": {},
   "outputs": [],
   "source": []
  },
  {
   "cell_type": "code",
   "execution_count": null,
   "metadata": {},
   "outputs": [],
   "source": [
    "# Confirm tables\n"
   ]
  },
  {
   "cell_type": "markdown",
   "metadata": {},
   "source": [
    "### Load DataFrames into database"
   ]
  },
  {
   "cell_type": "code",
   "execution_count": null,
   "metadata": {},
   "outputs": [],
   "source": []
  },
  {
   "cell_type": "code",
   "execution_count": null,
   "metadata": {},
   "outputs": [],
   "source": []
  }
 ],
 "metadata": {
  "kernelspec": {
   "display_name": "Python 3",
   "language": "python",
   "name": "python3"
  },
  "language_info": {
   "codemirror_mode": {
    "name": "ipython",
    "version": 3
   },
   "file_extension": ".py",
   "mimetype": "text/x-python",
   "name": "python",
   "nbconvert_exporter": "python",
   "pygments_lexer": "ipython3",
   "version": "3.6.8"
  }
 },
 "nbformat": 4,
 "nbformat_minor": 2
}
