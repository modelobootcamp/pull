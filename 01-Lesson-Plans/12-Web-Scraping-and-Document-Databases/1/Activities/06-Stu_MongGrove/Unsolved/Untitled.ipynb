{
 "cells": [
  {
   "cell_type": "markdown",
   "metadata": {},
   "source": [
    "# Mongo Grove\n",
    "\n",
    "## Instructions\n",
    "\n",
    "* You are the purchaser for the produce department of a large supermarket chain. You decide to use MongoDB to create a database of fruits received from your various suppliers.\n",
    "\n",
    "### Part I\n",
    "\n",
    "* Use Pymongo to create a `fruits_db` database, and a `fruits` collection.\n",
    "\n",
    "* Into that collection, insert two documents of fruit shipments received by your supermarket. They should contain the following information: vendor name, type of fruit, quantity received, and ripeness rating (1 for unripe, 2 for ripe, 3 for over-ripe).\n",
    "\n",
    "### Part II\n",
    "\n",
    "* Because not every supermarket employee is versed in using MongoDB, your task is to build an easy-to-use app that can be run from the console.\n",
    "\n",
    "* Build a Python script that asks the user for the above information, then inserts a document into a MongoDB database.\n",
    "\n",
    "### Part III\n",
    "\n",
    "* It would be good to Modify the app so that when the record is entered, the current date and time is automatically inserted into the document.\n",
    "\n",
    "* Hint: consult the [documentation](https://docs.python.org/3/library/datetime.html) on the `datetime` library.\n",
    "\n",
    "\n",
    "### Part IV\n",
    "\n",
    "* update a quanity, by increment of 1"
   ]
  },
  {
   "cell_type": "code",
   "execution_count": 9,
   "metadata": {},
   "outputs": [],
   "source": [
    "# Module used to connect Python with MongoDb\n",
    "import pymongo\n",
    "from bson.objectid import ObjectId\n",
    "conn = 'mongodb://localhost:27017'\n",
    "client = pymongo.MongoClient(conn)\n",
    "\n",
    "client.list_database_names()\n",
    "\n",
    "# Define the 'classDB' database in Mongo\n",
    "db = client.fruits_db\n",
    "\n",
    "#db.create_collection(\"fruits\")\n",
    "\n",
    "collection = db.fruits\n"
   ]
  },
  {
   "cell_type": "code",
   "execution_count": 26,
   "metadata": {},
   "outputs": [
    {
     "name": "stdout",
     "output_type": "stream",
     "text": [
      "{'_id': ObjectId('5ca90f0122e26e6afd38245f'), 'vendor_name': 'Specialty Fruits', 'type_of_fruit': 'Durian', 'quantity': 10, 'ripeness': 3}\n",
      "{'_id': ObjectId('5ca90fcb22e26e6afd382460'), 'vendor_name': 'Albertsons', 'type_of_fruit': 'Bananas', 'quantity': '11', 'ripeness': '3'}\n",
      "{'_id': ObjectId('5ca90fdd22e26e6afd382461'), 'vendor_name': 'asdf;aj;skf', 'type_of_fruit': 'adsfja;efk', 'quantity': 'asdfj;ak', 'ripeness': 'dafa;kj'}\n",
      "{'_id': ObjectId('5ca9122b22e26e6afd382462'), 'vendor_name': 'Driscolls', 'type_of_fruit': 'blueberries', 'quantity': 10000, 'ripeness': 3, 'createddate': datetime.datetime(2019, 4, 6, 20, 55, 7, 892000)}\n"
     ]
    }
   ],
   "source": [
    "for item in collection.find():\n",
    "    print(item)"
   ]
  },
  {
   "cell_type": "code",
   "execution_count": 11,
   "metadata": {},
   "outputs": [
    {
     "name": "stderr",
     "output_type": "stream",
     "text": [
      "/Users/joonyoo/anaconda3/lib/python3.6/site-packages/ipykernel_launcher.py:4: DeprecationWarning: insert is deprecated. Use insert_one or insert_many instead.\n",
      "  after removing the cwd from sys.path.\n"
     ]
    },
    {
     "data": {
      "text/plain": [
       "ObjectId('5ca90f0122e26e6afd38245f')"
      ]
     },
     "execution_count": 11,
     "metadata": {},
     "output_type": "execute_result"
    }
   ],
   "source": [
    "collection.insert({ \"vendor_name\": \"Specialty Fruits\" ,\n",
    "                       \"type_of_fruit\" : \"Durian\",\n",
    "                       \"quantity\": 10 ,\n",
    "                       \"ripeness\": 3 })"
   ]
  },
  {
   "cell_type": "code",
   "execution_count": 18,
   "metadata": {},
   "outputs": [
    {
     "name": "stdout",
     "output_type": "stream",
     "text": [
      "What is the vendor name? asdf;aj;skf\n",
      "fruit type? adsfja;efk\n",
      "How many? asdfj;ak\n",
      "ripeness?dafa;kj\n"
     ]
    },
    {
     "name": "stderr",
     "output_type": "stream",
     "text": [
      "/Users/joonyoo/anaconda3/lib/python3.6/site-packages/ipykernel_launcher.py:9: DeprecationWarning: insert is deprecated. Use insert_one or insert_many instead.\n",
      "  if __name__ == '__main__':\n"
     ]
    },
    {
     "data": {
      "text/plain": [
       "ObjectId('5ca90fdd22e26e6afd382461')"
      ]
     },
     "execution_count": 18,
     "metadata": {},
     "output_type": "execute_result"
    }
   ],
   "source": [
    "vendor_name  = input(\"What is the vendor name? \")\n",
    "type_of_fruit  = input(\"fruit type? \")\n",
    "quantity  = input(\"How many? \")\n",
    "ripeness = input(\"ripeness?\")\n",
    "#validations\n",
    "\n",
    "    \n",
    "collection.insert({ \"vendor_name\": vendor_name,\n",
    "                       \"type_of_fruit\" : type_of_fruit ,\n",
    "                       \"quantity\": quantity ,\n",
    "                       \"ripeness\": ripeness })"
   ]
  },
  {
   "cell_type": "code",
   "execution_count": 25,
   "metadata": {},
   "outputs": [
    {
     "name": "stderr",
     "output_type": "stream",
     "text": [
      "/Users/joonyoo/anaconda3/lib/python3.6/site-packages/ipykernel_launcher.py:5: DeprecationWarning: insert is deprecated. Use insert_one or insert_many instead.\n",
      "  \"\"\"\n"
     ]
    },
    {
     "data": {
      "text/plain": [
       "ObjectId('5ca9122b22e26e6afd382462')"
      ]
     },
     "execution_count": 25,
     "metadata": {},
     "output_type": "execute_result"
    }
   ],
   "source": [
    "collection.insert({ \"vendor_name\": \"Driscolls\",\n",
    "                       \"type_of_fruit\" :  \"rasberries\",\n",
    "                       \"quantity\": 10000 ,\n",
    "                       \"ripeness\": 3 ,\n",
    "                       \"createddate\": dt.utcnow().isoformat()\n",
    "                    })"
   ]
  },
  {
   "cell_type": "code",
   "execution_count": 23,
   "metadata": {},
   "outputs": [],
   "source": [
    "from datetime import datetime as dt"
   ]
  },
  {
   "cell_type": "code",
   "execution_count": 27,
   "metadata": {},
   "outputs": [
    {
     "data": {
      "text/plain": [
       "'2019-04-06T20:56:24.588526'"
      ]
     },
     "execution_count": 27,
     "metadata": {},
     "output_type": "execute_result"
    }
   ],
   "source": [
    "dt.utcnow().isoformat()\n",
    "#zulu time\n",
    "#gmt\n",
    "#timezone Ireland"
   ]
  },
  {
   "cell_type": "code",
   "execution_count": 33,
   "metadata": {},
   "outputs": [
    {
     "ename": "NameError",
     "evalue": "name 'datetime' is not defined",
     "output_type": "error",
     "traceback": [
      "\u001b[0;31m---------------------------------------------------------------------------\u001b[0m",
      "\u001b[0;31mNameError\u001b[0m                                 Traceback (most recent call last)",
      "\u001b[0;32m<ipython-input-33-b14294914584>\u001b[0m in \u001b[0;36m<module>\u001b[0;34m\u001b[0m\n\u001b[0;32m----> 1\u001b[0;31m \u001b[0mdatetime\u001b[0m\u001b[0;34m.\u001b[0m\u001b[0mdate\u001b[0m\u001b[0;34m.\u001b[0m\u001b[0mfromisoformat\u001b[0m\u001b[0;34m(\u001b[0m\u001b[0;34m'2011-11-01'\u001b[0m\u001b[0;34m)\u001b[0m\u001b[0;34m\u001b[0m\u001b[0;34m\u001b[0m\u001b[0m\n\u001b[0m",
      "\u001b[0;31mNameError\u001b[0m: name 'datetime' is not defined"
     ]
    }
   ],
   "source": [
    "from datetime import .date.fromisoformat('2011-11-01')"
   ]
  },
  {
   "cell_type": "code",
   "execution_count": null,
   "metadata": {},
   "outputs": [],
   "source": []
  }
 ],
 "metadata": {
  "kernelspec": {
   "display_name": "Python 3",
   "language": "python",
   "name": "python3"
  },
  "language_info": {
   "codemirror_mode": {
    "name": "ipython",
    "version": 3
   },
   "file_extension": ".py",
   "mimetype": "text/x-python",
   "name": "python",
   "nbconvert_exporter": "python",
   "pygments_lexer": "ipython3",
   "version": "3.6.8"
  }
 },
 "nbformat": 4,
 "nbformat_minor": 2
}
