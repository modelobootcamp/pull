{
 "cells": [
  {
   "cell_type": "code",
   "execution_count": 18,
   "metadata": {
    "ExecuteTime": {
     "end_time": "2019-05-04T17:48:01.794817Z",
     "start_time": "2019-05-04T17:48:01.790809Z"
    }
   },
   "outputs": [
    {
     "ename": "SyntaxError",
     "evalue": "invalid syntax (<ipython-input-18-b7ecbeec7576>, line 2)",
     "output_type": "error",
     "traceback": [
      "\u001b[0;36m  File \u001b[0;32m\"<ipython-input-18-b7ecbeec7576>\"\u001b[0;36m, line \u001b[0;32m2\u001b[0m\n\u001b[0;31m    __init__:\u001b[0m\n\u001b[0m             ^\u001b[0m\n\u001b[0;31mSyntaxError\u001b[0m\u001b[0;31m:\u001b[0m invalid syntax\n"
     ]
    }
   ],
   "source": [
    "class Person(name = \"\", age = 0):\n",
    "    def __init__:\n",
    "        name = \"\"\n",
    "        age = 0\n",
    "    \n",
    "    "
   ]
  },
  {
   "cell_type": "code",
   "execution_count": 3,
   "metadata": {
    "ExecuteTime": {
     "end_time": "2019-05-04T17:44:37.446701Z",
     "start_time": "2019-05-04T17:44:37.444172Z"
    }
   },
   "outputs": [],
   "source": [
    "Joon = People( \"Joon\", 23)\n"
   ]
  },
  {
   "cell_type": "code",
   "execution_count": 6,
   "metadata": {
    "ExecuteTime": {
     "end_time": "2019-05-04T17:44:59.334169Z",
     "start_time": "2019-05-04T17:44:59.331348Z"
    }
   },
   "outputs": [],
   "source": [
    "Joon.name = \"Joon Yoo\"\n"
   ]
  },
  {
   "cell_type": "code",
   "execution_count": 7,
   "metadata": {
    "ExecuteTime": {
     "end_time": "2019-05-04T17:45:02.611663Z",
     "start_time": "2019-05-04T17:45:02.607872Z"
    }
   },
   "outputs": [
    {
     "data": {
      "text/plain": [
       "<__main__.People at 0x10c97a208>"
      ]
     },
     "execution_count": 7,
     "metadata": {},
     "output_type": "execute_result"
    }
   ],
   "source": [
    "Joon"
   ]
  },
  {
   "cell_type": "code",
   "execution_count": 8,
   "metadata": {
    "ExecuteTime": {
     "end_time": "2019-05-04T17:45:06.294312Z",
     "start_time": "2019-05-04T17:45:06.290245Z"
    }
   },
   "outputs": [
    {
     "data": {
      "text/plain": [
       "'Joon Yoo'"
      ]
     },
     "execution_count": 8,
     "metadata": {},
     "output_type": "execute_result"
    }
   ],
   "source": [
    "Joon.name\n"
   ]
  },
  {
   "cell_type": "code",
   "execution_count": 11,
   "metadata": {
    "ExecuteTime": {
     "end_time": "2019-05-04T17:46:22.154485Z",
     "start_time": "2019-05-04T17:46:22.151954Z"
    }
   },
   "outputs": [],
   "source": [
    "Joon.name\n",
    "Joon.age = 12\n"
   ]
  },
  {
   "cell_type": "code",
   "execution_count": 12,
   "metadata": {
    "ExecuteTime": {
     "end_time": "2019-05-04T17:46:26.194507Z",
     "start_time": "2019-05-04T17:46:26.191203Z"
    }
   },
   "outputs": [
    {
     "name": "stdout",
     "output_type": "stream",
     "text": [
      "12\n"
     ]
    }
   ],
   "source": [
    "print(Joon.age)"
   ]
  },
  {
   "cell_type": "code",
   "execution_count": null,
   "metadata": {},
   "outputs": [],
   "source": []
  }
 ],
 "metadata": {
  "kernelspec": {
   "display_name": "Python 3",
   "language": "python",
   "name": "python3"
  },
  "language_info": {
   "codemirror_mode": {
    "name": "ipython",
    "version": 3
   },
   "file_extension": ".py",
   "mimetype": "text/x-python",
   "name": "python",
   "nbconvert_exporter": "python",
   "pygments_lexer": "ipython3",
   "version": "3.6.8"
  }
 },
 "nbformat": 4,
 "nbformat_minor": 2
}
